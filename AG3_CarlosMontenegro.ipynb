{
  "nbformat": 4,
  "nbformat_minor": 0,
  "metadata": {
    "colab": {
      "name": "AG3-CarlosMontenegro.ipynb",
      "provenance": [],
      "include_colab_link": true
    },
    "kernelspec": {
      "name": "python3",
      "display_name": "Python 3"
    }
  },
  "cells": [
    {
      "cell_type": "markdown",
      "metadata": {
        "id": "view-in-github",
        "colab_type": "text"
      },
      "source": [
        "<a href=\"https://colab.research.google.com/github/SDC-CarlosMontenegro/AlgoritmosOptimizacionVIU/blob/master/AG3_CarlosMontenegro.ipynb\" target=\"_parent\"><img src=\"https://colab.research.google.com/assets/colab-badge.svg\" alt=\"Open In Colab\"/></a>"
      ]
    },
    {
      "cell_type": "markdown",
      "metadata": {
        "id": "jR6YqWZ_hUXZ",
        "colab_type": "text"
      },
      "source": [
        "Actividad Guiada 3\n",
        "Carlos Montenegro Murillo\n",
        "https://colab.research.google.com/drive/1t6pUjCkbyXsdrNEd-601HfLu2SxcYpb0\n",
        "https://github.com/SDC-CarlosMontenegro/AlgoritmosOptimizacionVIU/blob/master/AG3_CarlosMontenegro.ipynb"
      ]
    },
    {
      "cell_type": "code",
      "metadata": {
        "id": "k0rFvT-_h3mt",
        "colab_type": "code",
        "colab": {
          "base_uri": "https://localhost:8080/",
          "height": 547
        },
        "outputId": "b8e7c087-7160-4297-a2e4-68c8a123a77a"
      },
      "source": [
        "!pip install request"
      ],
      "execution_count": 1,
      "outputs": [
        {
          "output_type": "stream",
          "text": [
            "Collecting request\n",
            "  Downloading https://files.pythonhosted.org/packages/f1/27/7cbde262d854aedf217061a97020d66a63163c5c04e0ec02ff98c5d8f44e/request-2019.4.13.tar.gz\n",
            "Collecting get (from request)\n",
            "  Downloading https://files.pythonhosted.org/packages/3f/ef/bb46f77f7220ac1b7edba0c76d810c89fddb24ddd8c08f337b9b4a618db7/get-2019.4.13.tar.gz\n",
            "Collecting post (from request)\n",
            "  Downloading https://files.pythonhosted.org/packages/0f/05/bd79da5849ea6a92485ed7029ef97b1b75e55c26bc0ed3a7ec769af666f3/post-2019.4.13.tar.gz\n",
            "Requirement already satisfied: setuptools in /usr/local/lib/python3.6/dist-packages (from request) (41.2.0)\n",
            "Collecting query_string (from get->request)\n",
            "  Downloading https://files.pythonhosted.org/packages/12/3c/412a45daf5bea9b1d06d7de41787ec4168001dfa418db7ec8723356b119f/query-string-2019.4.13.tar.gz\n",
            "Collecting public (from query_string->get->request)\n",
            "  Downloading https://files.pythonhosted.org/packages/54/4d/b40004cc6c07665e48af22cfe1e631f219bf4282e15fa76a5b6364f6885c/public-2019.4.13.tar.gz\n",
            "Building wheels for collected packages: request, get, post, query-string, public\n",
            "  Building wheel for request (setup.py) ... \u001b[?25l\u001b[?25hdone\n",
            "  Created wheel for request: filename=request-2019.4.13-cp36-none-any.whl size=1676 sha256=ef39a689ca81833f60c738a1e10cb5f9af729882fbb833cc661963119684bd32\n",
            "  Stored in directory: /root/.cache/pip/wheels/30/84/5f/484cfba678967ef58c16fce6890925d5c7172622f20111fbfd\n",
            "  Building wheel for get (setup.py) ... \u001b[?25l\u001b[?25hdone\n",
            "  Created wheel for get: filename=get-2019.4.13-cp36-none-any.whl size=1692 sha256=0c177848c803e274d4b5aeebf3ed9017e963c7347bfb0efa8f31e7ad9ca67c04\n",
            "  Stored in directory: /root/.cache/pip/wheels/c1/e3/c1/d02c8c58538853e4c9b78cadb74f6d5c5c370b48a69a7271aa\n",
            "  Building wheel for post (setup.py) ... \u001b[?25l\u001b[?25hdone\n",
            "  Created wheel for post: filename=post-2019.4.13-cp36-none-any.whl size=1661 sha256=bbc435c730051f934ab7fba937a52d1ff1ed3f11754e49c875b1bf91dc0b0e75\n",
            "  Stored in directory: /root/.cache/pip/wheels/c3/c3/24/b5c132b537ab380c02d69e6bd4dec1f5db56b5fe19030473d7\n",
            "  Building wheel for query-string (setup.py) ... \u001b[?25l\u001b[?25hdone\n",
            "  Created wheel for query-string: filename=query_string-2019.4.13-cp36-none-any.whl size=2049 sha256=7393fcba64eb1346f539dd27b72553f1c19c2383de4f8696bdce81e434f0c351\n",
            "  Stored in directory: /root/.cache/pip/wheels/d6/a4/78/01b20a9dc224dcc009fab669f7f27b943b8889c5150bd68d8a\n",
            "  Building wheel for public (setup.py) ... \u001b[?25l\u001b[?25hdone\n",
            "  Created wheel for public: filename=public-2019.4.13-cp36-none-any.whl size=2536 sha256=c637729c849257c34053f04700f03f8c5c9cfb2267e124bccf4034734cb26b14\n",
            "  Stored in directory: /root/.cache/pip/wheels/23/7c/6e/f5b4e09d6596c8b8802b347e48f149031e2363368048f1347a\n",
            "Successfully built request get post query-string public\n",
            "Installing collected packages: public, query-string, get, post, request\n",
            "Successfully installed get-2019.4.13 post-2019.4.13 public-2019.4.13 query-string-2019.4.13 request-2019.4.13\n"
          ],
          "name": "stdout"
        }
      ]
    },
    {
      "cell_type": "code",
      "metadata": {
        "id": "5QRzSDmBi8Df",
        "colab_type": "code",
        "colab": {
          "base_uri": "https://localhost:8080/",
          "height": 34
        },
        "outputId": "d34901ce-7465-4154-8b13-82da0959e9cc"
      },
      "source": [
        "import urllib.request\n",
        "file = 'swiss42.tsp'\n",
        "\n",
        "urllib.request.urlretrieve('http://elib.zib.de/pub/mp-testdata/tsp/tsplib/tsp/swiss42.tsp', file)"
      ],
      "execution_count": 3,
      "outputs": [
        {
          "output_type": "execute_result",
          "data": {
            "text/plain": [
              "('swiss42.tsp', <http.client.HTTPMessage at 0x7f31f75a4588>)"
            ]
          },
          "metadata": {
            "tags": []
          },
          "execution_count": 3
        }
      ]
    },
    {
      "cell_type": "code",
      "metadata": {
        "id": "QOUZQCFxjfRV",
        "colab_type": "code",
        "colab": {
          "base_uri": "https://localhost:8080/",
          "height": 343
        },
        "outputId": "6e4e0743-1447-4280-9d12-01630061d9d3"
      },
      "source": [
        "!pip install tsplib95\n"
      ],
      "execution_count": 5,
      "outputs": [
        {
          "output_type": "stream",
          "text": [
            "Collecting tsplib95\n",
            "  Downloading https://files.pythonhosted.org/packages/90/9f/5fbf6118d00719cc4688b175a04da09b89c3780db6b0c55bc646a20a6a07/tsplib95-0.3.3-py2.py3-none-any.whl\n",
            "Collecting networkx==2.1 (from tsplib95)\n",
            "\u001b[?25l  Downloading https://files.pythonhosted.org/packages/11/42/f951cc6838a4dff6ce57211c4d7f8444809ccbe2134179950301e5c4c83c/networkx-2.1.zip (1.6MB)\n",
            "\u001b[K     |████████████████████████████████| 1.6MB 5.8MB/s \n",
            "\u001b[?25hRequirement already satisfied: Click>=6.0 in /usr/local/lib/python3.6/dist-packages (from tsplib95) (7.0)\n",
            "Requirement already satisfied: decorator>=4.1.0 in /usr/local/lib/python3.6/dist-packages (from networkx==2.1->tsplib95) (4.4.0)\n",
            "Building wheels for collected packages: networkx\n",
            "  Building wheel for networkx (setup.py) ... \u001b[?25l\u001b[?25hdone\n",
            "  Created wheel for networkx: filename=networkx-2.1-py2.py3-none-any.whl size=1447766 sha256=1fc649980b9aa25d817f7e6857ab428a01b7f0388859afdf6af8abfc3f567fb5\n",
            "  Stored in directory: /root/.cache/pip/wheels/44/c0/34/6f98693a554301bdb405f8d65d95bbcd3e50180cbfdd98a94e\n",
            "Successfully built networkx\n",
            "\u001b[31mERROR: albumentations 0.1.12 has requirement imgaug<0.2.7,>=0.2.5, but you'll have imgaug 0.2.9 which is incompatible.\u001b[0m\n",
            "Installing collected packages: networkx, tsplib95\n",
            "  Found existing installation: networkx 2.3\n",
            "    Uninstalling networkx-2.3:\n",
            "      Successfully uninstalled networkx-2.3\n",
            "Successfully installed networkx-2.1 tsplib95-0.3.3\n"
          ],
          "name": "stdout"
        }
      ]
    },
    {
      "cell_type": "code",
      "metadata": {
        "id": "97TY2_xbkBEt",
        "colab_type": "code",
        "colab": {}
      },
      "source": [
        "import tsplib95\n",
        "import random\n",
        "from math import e"
      ],
      "execution_count": 0,
      "outputs": []
    },
    {
      "cell_type": "code",
      "metadata": {
        "id": "3daP51PfkYqI",
        "colab_type": "code",
        "colab": {
          "base_uri": "https://localhost:8080/",
          "height": 51
        },
        "outputId": "862dc114-99b4-470d-dd93-c1927926a44e"
      },
      "source": [
        "problem = tsplib95.load_problem(file)\n",
        "print(problem)\n",
        "\n",
        "Nodos = list(problem.get_nodes())\n",
        "\n",
        "problem.get_nodes()\n",
        "problem.get_edges()\n",
        "\n",
        "problem.wfunc(0,1)"
      ],
      "execution_count": 14,
      "outputs": [
        {
          "output_type": "stream",
          "text": [
            "<tsplib95.models.Problem object at 0x7f31f1978cc0>\n"
          ],
          "name": "stdout"
        },
        {
          "output_type": "execute_result",
          "data": {
            "text/plain": [
              "15"
            ]
          },
          "metadata": {
            "tags": []
          },
          "execution_count": 14
        }
      ]
    },
    {
      "cell_type": "code",
      "metadata": {
        "id": "gI4Zh4vBkzpT",
        "colab_type": "code",
        "colab": {
          "base_uri": "https://localhost:8080/",
          "height": 54
        },
        "outputId": "79552887-2a10-4c77-95dd-5b61098464d5"
      },
      "source": [
        "def distancia(a,b,problem):\n",
        "  return problem.wfunc(a,b)\n",
        "\n",
        "def crear_solucion(Nodos):\n",
        "  solucion = [0]\n",
        "  for i in range(len(Nodos)-1):\n",
        "    solucion = solucion + [random.choice(list(set(Nodos) - set({0}) - set(solucion)))]\n",
        "  return solucion\n",
        "\n",
        "def distancia_total(solucion, problem):\n",
        "  distancia_ret = 0\n",
        "  for i in range(len(solucion) - 1):\n",
        "    distancia_ret += distancia(solucion[i], solucion[i+1], problem)\n",
        "  return distancia_ret + distancia(solucion[len(solucion) - 1], solucion[0], problem)\n",
        "\n",
        "solucion_prueba = crear_solucion(Nodos)\n",
        "\n",
        "print(distancia_total(solucion_prueba, problem), solucion_prueba)"
      ],
      "execution_count": 16,
      "outputs": [
        {
          "output_type": "stream",
          "text": [
            "5012 [0, 17, 29, 33, 12, 10, 21, 19, 8, 36, 28, 15, 16, 2, 30, 26, 9, 13, 11, 20, 1, 18, 23, 22, 6, 5, 32, 24, 14, 41, 7, 4, 38, 34, 25, 3, 37, 31, 39, 40, 27, 35]\n"
          ],
          "name": "stdout"
        }
      ]
    },
    {
      "cell_type": "code",
      "metadata": {
        "id": "GUBOOMmSmVbT",
        "colab_type": "code",
        "colab": {
          "base_uri": "https://localhost:8080/",
          "height": 768
        },
        "outputId": "28d6d7e0-f78b-43a7-de8d-0cc28210a6a5"
      },
      "source": [
        "def busqueda_aleatoria(problem, N):\n",
        "  Nodos = list(problem.get_nodes())\n",
        "  \n",
        "  mejor_solucion = []\n",
        "  \n",
        "  mejor_distancia = 10e10\n",
        "  \n",
        "  for i in range(N):\n",
        "    solucion = crear_solucion(Nodos)\n",
        "    distancia_solucion = distancia_total(solucion, problem)\n",
        "    \n",
        "    if distancia_solucion < mejor_distancia:\n",
        "      mejor_solucion = solucion\n",
        "      mejor_distancia = distancia_solucion\n",
        "      \n",
        "  print(mejor_distancia, mejor_solucion)\n",
        "  return mejor_solucion\n",
        "\n",
        "busqueda_aleatoria(problem, 100)"
      ],
      "execution_count": 19,
      "outputs": [
        {
          "output_type": "stream",
          "text": [
            "4245 [0, 4, 35, 36, 16, 10, 8, 28, 24, 30, 39, 21, 2, 14, 33, 6, 15, 20, 23, 18, 40, 22, 1, 32, 41, 29, 12, 31, 34, 17, 27, 19, 37, 38, 13, 25, 11, 9, 7, 3, 5, 26]\n"
          ],
          "name": "stdout"
        },
        {
          "output_type": "execute_result",
          "data": {
            "text/plain": [
              "[0,\n",
              " 4,\n",
              " 35,\n",
              " 36,\n",
              " 16,\n",
              " 10,\n",
              " 8,\n",
              " 28,\n",
              " 24,\n",
              " 30,\n",
              " 39,\n",
              " 21,\n",
              " 2,\n",
              " 14,\n",
              " 33,\n",
              " 6,\n",
              " 15,\n",
              " 20,\n",
              " 23,\n",
              " 18,\n",
              " 40,\n",
              " 22,\n",
              " 1,\n",
              " 32,\n",
              " 41,\n",
              " 29,\n",
              " 12,\n",
              " 31,\n",
              " 34,\n",
              " 17,\n",
              " 27,\n",
              " 19,\n",
              " 37,\n",
              " 38,\n",
              " 13,\n",
              " 25,\n",
              " 11,\n",
              " 9,\n",
              " 7,\n",
              " 3,\n",
              " 5,\n",
              " 26]"
            ]
          },
          "metadata": {
            "tags": []
          },
          "execution_count": 19
        }
      ]
    },
    {
      "cell_type": "code",
      "metadata": {
        "id": "YeApOjS0qoPP",
        "colab_type": "code",
        "colab": {
          "base_uri": "https://localhost:8080/",
          "height": 731
        },
        "outputId": "26dd1627-3a9c-43bf-cf45-ef80d12cbfb5"
      },
      "source": [
        "def generar_vecina(solucion, problem):\n",
        "  mejor_solucion = []\n",
        "  mejor_distancia = 10e10\n",
        "  for i in range(1, len(solucion) - 1):\n",
        "    for j in range(i+1, len(solucion)):\n",
        "      vecina = solucion[:i] + [solucion[j]] + solucion[i+1:j] + [solucion[i]] + solucion[j+1:]\n",
        "      distancia_vecina = distancia_total(vecina, problem)\n",
        "      if distancia_vecina < mejor_distancia:\n",
        "        mejor_solucion = vecina\n",
        "        mejor_distancia = distancia_vecina\n",
        "  return mejor_solucion\n",
        "\n",
        "solucion_prueba = crear_solucion(Nodos)\n",
        "generar_vecina(solucion_prueba, problem)"
      ],
      "execution_count": 21,
      "outputs": [
        {
          "output_type": "execute_result",
          "data": {
            "text/plain": [
              "[0,\n",
              " 21,\n",
              " 11,\n",
              " 5,\n",
              " 17,\n",
              " 19,\n",
              " 30,\n",
              " 27,\n",
              " 32,\n",
              " 16,\n",
              " 22,\n",
              " 38,\n",
              " 34,\n",
              " 6,\n",
              " 13,\n",
              " 37,\n",
              " 25,\n",
              " 18,\n",
              " 29,\n",
              " 1,\n",
              " 12,\n",
              " 9,\n",
              " 41,\n",
              " 8,\n",
              " 23,\n",
              " 33,\n",
              " 31,\n",
              " 15,\n",
              " 20,\n",
              " 24,\n",
              " 39,\n",
              " 40,\n",
              " 3,\n",
              " 7,\n",
              " 4,\n",
              " 10,\n",
              " 28,\n",
              " 2,\n",
              " 26,\n",
              " 35,\n",
              " 14,\n",
              " 36]"
            ]
          },
          "metadata": {
            "tags": []
          },
          "execution_count": 21
        }
      ]
    },
    {
      "cell_type": "code",
      "metadata": {
        "id": "C5hll5wbptx9",
        "colab_type": "code",
        "colab": {
          "base_uri": "https://localhost:8080/",
          "height": 768
        },
        "outputId": "e002d259-6069-4701-e93f-35b10fa3d235"
      },
      "source": [
        "def busqueda_local(problem, N):\n",
        "  mejor_solucion = []\n",
        "  mejor_distancia = 10e10\n",
        "  \n",
        "  Nodos = list(problem.get_nodes())\n",
        "  \n",
        "  solucion_referencia = crear_solucion(Nodos)\n",
        "  \n",
        "  for i in range(N):\n",
        "    vecina = generar_vecina(solucion_referencia, problem)\n",
        "    distancia_vecina = distancia_total(vecina, problem)\n",
        "    if distancia_vecina < mejor_distancia:\n",
        "      mejor_solucion = vecina\n",
        "      mejor_distancia = distancia_vecina\n",
        "    \n",
        "    solucion_referencia = mejor_solucion\n",
        "  print(distancia_total(mejor_solucion, problem), mejor_solucion)\n",
        "  \n",
        "  return mejor_solucion\n",
        "\n",
        "busqueda_local(problem, 100)"
      ],
      "execution_count": 22,
      "outputs": [
        {
          "output_type": "stream",
          "text": [
            "1747 [0, 14, 16, 15, 37, 31, 20, 33, 34, 24, 40, 21, 39, 9, 23, 41, 25, 13, 19, 5, 18, 12, 11, 10, 8, 29, 28, 30, 38, 22, 2, 27, 3, 4, 26, 6, 1, 7, 17, 36, 35, 32]\n"
          ],
          "name": "stdout"
        },
        {
          "output_type": "execute_result",
          "data": {
            "text/plain": [
              "[0,\n",
              " 14,\n",
              " 16,\n",
              " 15,\n",
              " 37,\n",
              " 31,\n",
              " 20,\n",
              " 33,\n",
              " 34,\n",
              " 24,\n",
              " 40,\n",
              " 21,\n",
              " 39,\n",
              " 9,\n",
              " 23,\n",
              " 41,\n",
              " 25,\n",
              " 13,\n",
              " 19,\n",
              " 5,\n",
              " 18,\n",
              " 12,\n",
              " 11,\n",
              " 10,\n",
              " 8,\n",
              " 29,\n",
              " 28,\n",
              " 30,\n",
              " 38,\n",
              " 22,\n",
              " 2,\n",
              " 27,\n",
              " 3,\n",
              " 4,\n",
              " 26,\n",
              " 6,\n",
              " 1,\n",
              " 7,\n",
              " 17,\n",
              " 36,\n",
              " 35,\n",
              " 32]"
            ]
          },
          "metadata": {
            "tags": []
          },
          "execution_count": 22
        }
      ]
    },
    {
      "cell_type": "code",
      "metadata": {
        "id": "uyVlvzZZtSPf",
        "colab_type": "code",
        "colab": {}
      },
      "source": [
        "def probabilidad(T,d):\n",
        "  r=random.random()\n",
        "  \n",
        "  if r >= (e**(-1*d)/((T * 5*10**(-5)))):\n",
        "    return True\n",
        "  else:\n",
        "    return False\n",
        "\n",
        "def bajar_temperatura(T):\n",
        "  return T*0.9"
      ],
      "execution_count": 0,
      "outputs": []
    },
    {
      "cell_type": "code",
      "metadata": {
        "id": "Pab0rjB6veVX",
        "colab_type": "code",
        "colab": {
          "base_uri": "https://localhost:8080/",
          "height": 768
        },
        "outputId": "5e40d85d-fd74-4831-b0eb-cc2457540afa"
      },
      "source": [
        "def recocido_simulado(problem, TEMPERATURA):\n",
        "  \n",
        "  solucion_referencia = crear_solucion(Nodos)\n",
        "  \n",
        "  distancia_referencia = distancia_total(solucion_referencia, problem)\n",
        "  \n",
        "  mejor_solucion = []\n",
        "  mejor_distancia = 10e10\n",
        "  \n",
        "  while TEMPERATURA > 1:\n",
        "    vecina = generar_vecina(solucion_referencia, problem)\n",
        "    distancia_vecina = distancia_total(vecina, problem)\n",
        "    \n",
        "    if distancia_vecina < mejor_distancia:\n",
        "      mejor_solucion = vecina\n",
        "      mejor_distancia = distancia_vecina\n",
        "    \n",
        "    if distancia_vecina < distancia_referencia or probabilidad(TEMPERATURA, abs(distancia_referencia-distancia_vecina)):\n",
        "      solucion_referencia = vecina\n",
        "      distancia_referencia = distancia_vecina\n",
        "    \n",
        "    TEMPERATURA = bajar_temperatura(TEMPERATURA)\n",
        "    \n",
        "    print(mejor_distancia, mejor_solucion)\n",
        "    \n",
        "    return mejor_solucion\n",
        "    \n",
        "recocido_simulado(problem, 1000)"
      ],
      "execution_count": 28,
      "outputs": [
        {
          "output_type": "stream",
          "text": [
            "3864 [0, 30, 34, 8, 7, 37, 35, 28, 9, 18, 6, 14, 13, 38, 20, 36, 16, 19, 5, 22, 29, 27, 11, 31, 3, 1, 26, 25, 15, 2, 32, 4, 33, 21, 40, 39, 24, 17, 12, 41, 23, 10]\n"
          ],
          "name": "stdout"
        },
        {
          "output_type": "execute_result",
          "data": {
            "text/plain": [
              "[0,\n",
              " 30,\n",
              " 34,\n",
              " 8,\n",
              " 7,\n",
              " 37,\n",
              " 35,\n",
              " 28,\n",
              " 9,\n",
              " 18,\n",
              " 6,\n",
              " 14,\n",
              " 13,\n",
              " 38,\n",
              " 20,\n",
              " 36,\n",
              " 16,\n",
              " 19,\n",
              " 5,\n",
              " 22,\n",
              " 29,\n",
              " 27,\n",
              " 11,\n",
              " 31,\n",
              " 3,\n",
              " 1,\n",
              " 26,\n",
              " 25,\n",
              " 15,\n",
              " 2,\n",
              " 32,\n",
              " 4,\n",
              " 33,\n",
              " 21,\n",
              " 40,\n",
              " 39,\n",
              " 24,\n",
              " 17,\n",
              " 12,\n",
              " 41,\n",
              " 23,\n",
              " 10]"
            ]
          },
          "metadata": {
            "tags": []
          },
          "execution_count": 28
        }
      ]
    },
    {
      "cell_type": "code",
      "metadata": {
        "id": "sVpNJjuHw6oH",
        "colab_type": "code",
        "colab": {}
      },
      "source": [
        ""
      ],
      "execution_count": 0,
      "outputs": []
    }
  ]
}