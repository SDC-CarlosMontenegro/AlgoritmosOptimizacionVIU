{
  "nbformat": 4,
  "nbformat_minor": 0,
  "metadata": {
    "colab": {
      "name": "AG3-CarlosMontenegro.ipynb",
      "provenance": [],
      "include_colab_link": true
    },
    "kernelspec": {
      "name": "python3",
      "display_name": "Python 3"
    }
  },
  "cells": [
    {
      "cell_type": "markdown",
      "metadata": {
        "id": "view-in-github",
        "colab_type": "text"
      },
      "source": [
        "<a href=\"https://colab.research.google.com/github/SDC-CarlosMontenegro/AlgoritmosOptimizacionVIU/blob/master/AG3_CarlosMontenegro.ipynb\" target=\"_parent\"><img src=\"https://colab.research.google.com/assets/colab-badge.svg\" alt=\"Open In Colab\"/></a>"
      ]
    },
    {
      "cell_type": "markdown",
      "metadata": {
        "id": "jR6YqWZ_hUXZ",
        "colab_type": "text"
      },
      "source": [
        "Actividad Guiada 3\n",
        "Carlos Montenegro Murillo\n",
        "https://colab.research.google.com/drive/1t6pUjCkbyXsdrNEd-601HfLu2SxcYpb0\n"
      ]
    }
  ]
}