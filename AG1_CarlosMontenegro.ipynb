{
  "nbformat": 4,
  "nbformat_minor": 0,
  "metadata": {
    "colab": {
      "name": "AG1-CarlosMontenegro.ipynb",
      "version": "0.3.2",
      "provenance": [],
      "collapsed_sections": [],
      "include_colab_link": true
    },
    "kernelspec": {
      "name": "python3",
      "display_name": "Python 3"
    }
  },
  "cells": [
    {
      "cell_type": "markdown",
      "metadata": {
        "id": "view-in-github",
        "colab_type": "text"
      },
      "source": [
        "<a href=\"https://colab.research.google.com/github/SDC-CarlosMontenegro/AlgoritmosOptimizacionVIU/blob/master/AG1_CarlosMontenegro.ipynb\" target=\"_parent\"><img src=\"https://colab.research.google.com/assets/colab-badge.svg\" alt=\"Open In Colab\"/></a>"
      ]
    },
    {
      "cell_type": "markdown",
      "metadata": {
        "id": "EsVHxmffrj1P",
        "colab_type": "text"
      },
      "source": [
        "Actividad Guiada 1\n",
        "Carlos Montenegro Murillo\n",
        "https://colab.research.google.com/drive/18ewZwRmyKCmZzizQoGLr0xrz_oEkOZjx"
      ]
    },
    {
      "cell_type": "code",
      "metadata": {
        "id": "Ho3YUinntN-R",
        "colab_type": "code",
        "colab": {}
      },
      "source": [
        "from functools import wraps\n",
        "from time import time\n",
        "\n",
        "def calcular_tiempo(f):\n",
        "    @wraps(f)\n",
        "    def cronometro(*args, **kwargs):\n",
        "        t_inicial = time()\n",
        "        salida = f(*args, **kwargs)\n",
        "        t_final = time()\n",
        "        print('Tiempo transcurrido (en segundos): {}'.format(t_final - t_inicial))\n",
        "        return salida\n",
        "    return cronometro"
      ],
      "execution_count": 0,
      "outputs": []
    },
    {
      "cell_type": "code",
      "metadata": {
        "id": "ifjMV54VuDdC",
        "colab_type": "code",
        "colab": {}
      },
      "source": [
        "A = [9187, 244, 4054, 9222, 8373, 4993, 5265, 5470, 4519, 7182, 2035, 3506, 4337, 7580, 2554, 2824, 8357, 4447, 7379]"
      ],
      "execution_count": 0,
      "outputs": []
    },
    {
      "cell_type": "code",
      "metadata": {
        "id": "vEK1dp7muZkD",
        "colab_type": "code",
        "colab": {
          "base_uri": "https://localhost:8080/",
          "height": 68
        },
        "outputId": "b7cbbeca-09b1-4af1-b0f1-6819e9efb8be"
      },
      "source": [
        "\n",
        "def quick_sort(A):\n",
        "    if len(A) == 1:\n",
        "        return A\n",
        "    if len(A) == 2:\n",
        "        return [min(A),max(A)]\n",
        "    \n",
        "    pivote = (A[0] + A[1] + A[2]) / 3\n",
        "    \n",
        "    izq = []\n",
        "    der = []\n",
        "    for n in A:\n",
        "        if n < pivote:\n",
        "            izq.append(n)\n",
        "        else:\n",
        "            der.append(n)\n",
        "    \n",
        "    return quick_sort(izq) + quick_sort(der)\n",
        "\n",
        "\n",
        "@calcular_tiempo\n",
        "def ordenar(A):\n",
        "    print(quick_sort(A))\n",
        "\n",
        "print(ordenar(A))\n",
        "  \n"
      ],
      "execution_count": 7,
      "outputs": [
        {
          "output_type": "stream",
          "text": [
            "[244, 2035, 2554, 2824, 3506, 4054, 4337, 4447, 4519, 4993, 5265, 5470, 7182, 7379, 7580, 8357, 8373, 9187, 9222]\n",
            "Tiempo transcurrido (en segundos): 0.00022220611572265625\n",
            "None\n"
          ],
          "name": "stdout"
        }
      ]
    },
    {
      "cell_type": "code",
      "metadata": {
        "id": "2pQttH5xw3K0",
        "colab_type": "code",
        "colab": {
          "base_uri": "https://localhost:8080/",
          "height": 34
        },
        "outputId": "04992328-d9c3-4e71-a464-ab79e56ed474"
      },
      "source": [
        "SISTEMA = [25,10,5,1]\n",
        "\n",
        "def cambio_monedas(CANTIDAD, SISTEMA):\n",
        "    SOLUCION = [0 for i in range(len(SISTEMA))]\n",
        "    \n",
        "    VALOR_ACUMULADO = 0\n",
        "    \n",
        "    for i in range(len(SISTEMA)):\n",
        "        monedas = int((CANTIDAD - VALOR_ACUMULADO) / SISTEMA[i])\n",
        "        SOLUCION[i] = monedas\n",
        "        VALOR_ACUMULADO = VALOR_ACUMULADO + monedas*SISTEMA[i]\n",
        "        \n",
        "        if VALOR_ACUMULADO == CANTIDAD:\n",
        "            return SOLUCION\n",
        "          \n",
        "cambio_monedas(23, SISTEMA)"
      ],
      "execution_count": 8,
      "outputs": [
        {
          "output_type": "execute_result",
          "data": {
            "text/plain": [
              "[0, 2, 0, 3]"
            ]
          },
          "metadata": {
            "tags": []
          },
          "execution_count": 8
        }
      ]
    },
    {
      "cell_type": "code",
      "metadata": {
        "id": "8dELv5RO2crZ",
        "colab_type": "code",
        "colab": {}
      },
      "source": [
        ""
      ],
      "execution_count": 0,
      "outputs": []
    }
  ]
}