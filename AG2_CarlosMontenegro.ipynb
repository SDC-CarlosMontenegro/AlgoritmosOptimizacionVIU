{
  "nbformat": 4,
  "nbformat_minor": 0,
  "metadata": {
    "colab": {
      "name": "AG2-CarlosMontenegro.ipynb",
      "version": "0.3.2",
      "provenance": [],
      "include_colab_link": true
    },
    "kernelspec": {
      "name": "python3",
      "display_name": "Python 3"
    }
  },
  "cells": [
    {
      "cell_type": "markdown",
      "metadata": {
        "id": "view-in-github",
        "colab_type": "text"
      },
      "source": [
        "<a href=\"https://colab.research.google.com/github/SDC-CarlosMontenegro/AlgoritmosOptimizacionVIU/blob/master/AG2_CarlosMontenegro.ipynb\" target=\"_parent\"><img src=\"https://colab.research.google.com/assets/colab-badge.svg\" alt=\"Open In Colab\"/></a>"
      ]
    },
    {
      "cell_type": "markdown",
      "metadata": {
        "id": "ustVb6T-26q6",
        "colab_type": "text"
      },
      "source": [
        "Actividad Guiada 2\n",
        "Carlos Montenegro Murillo\n",
        "https://colab.research.google.com/drive/1DbdtwUn2rUeC7jF3pb5Jbida1hXoI-Wc\n",
        "https://github.com/SDC-CarlosMontenegro/AlgoritmosOptimizacionVIU/blob/master/AG2_CarlosMontenegro.ipynb\n"
      ]
    },
    {
      "cell_type": "code",
      "metadata": {
        "id": "SB-T8GDm3Ib-",
        "colab_type": "code",
        "colab": {
          "base_uri": "https://localhost:8080/",
          "height": 122
        },
        "outputId": "5654e6cd-23a3-480b-d4f2-8fba32ce1c3a"
      },
      "source": [
        "TARIFAS = [\n",
        "[0,5,4,3,999,999,999],\n",
        "[999,0,999,2,3,999,11],\n",
        "[999,999, 0,1,999,4,10],\n",
        "[999,999,999, 0,5,6,9],\n",
        "[999,999, 999,999,0,999,4],\n",
        "[999,999, 999,999,999,0,3],\n",
        "[999,999,999,999,999,999,0]\n",
        "]\n",
        "\n",
        "def Precios(TARIFAS):\n",
        "  N = len(TARIFAS)\n",
        "  PRECIOS = [[9999]*N for i in [9999]*N]\n",
        "  RUTA = [[\"\"]*N for i in [9999]*N ]\n",
        "  \n",
        "  \n",
        "  for i in range(N-1):\n",
        "    for j in range(i+1,N):\n",
        "      MIN = TARIFAS[i][j]\n",
        "      RUTA[i][j] = i\n",
        "      \n",
        "      for k in range(i,j):\n",
        "        if PRECIOS[i][k] + TARIFAS[k][j] < MIN:\n",
        "          MIN = min(MIN, PRECIOS[i][k] + TARIFAS[k][j])\n",
        "          RUTA[i][j] = k\n",
        "      PRECIOS[i][j] = MIN\n",
        "    return PRECIOS, RUTA\n",
        "  \n",
        "PRECIOS, RUTAS = Precios(TARIFAS)\n",
        "\n",
        "print(PRECIOS)\n",
        "\n",
        "print(RUTAS)\n",
        "\n",
        "def calcular_ruta(RUTAS, desde, hasta):\n",
        "  if desde == hasta:\n",
        "    #print(\"Ir a :\" + str(desde))\n",
        "    return desde \n",
        "  else:\n",
        "    return str(calcular_ruta(RUTAS, desde, RUTAS[desde][hasta])) +  ',' + str(RUTAS[desde][hasta]) \n",
        "\n",
        "print(\"\\nLa ruta es:\")  \n",
        "calcular_ruta(RUTAS, 0,6)\n",
        "  \n",
        "  "
      ],
      "execution_count": 3,
      "outputs": [
        {
          "output_type": "stream",
          "text": [
            "[[9999, 5, 4, 3, 8, 8, 11], [9999, 9999, 9999, 9999, 9999, 9999, 9999], [9999, 9999, 9999, 9999, 9999, 9999, 9999], [9999, 9999, 9999, 9999, 9999, 9999, 9999], [9999, 9999, 9999, 9999, 9999, 9999, 9999], [9999, 9999, 9999, 9999, 9999, 9999, 9999], [9999, 9999, 9999, 9999, 9999, 9999, 9999]]\n",
            "[['', 0, 0, 0, 1, 2, 5], ['', '', '', '', '', '', ''], ['', '', '', '', '', '', ''], ['', '', '', '', '', '', ''], ['', '', '', '', '', '', ''], ['', '', '', '', '', '', ''], ['', '', '', '', '', '', '']]\n",
            "\n",
            "La ruta es:\n"
          ],
          "name": "stdout"
        },
        {
          "output_type": "execute_result",
          "data": {
            "text/plain": [
              "'0,0,2,5'"
            ]
          },
          "metadata": {
            "tags": []
          },
          "execution_count": 3
        }
      ]
    },
    {
      "cell_type": "code",
      "metadata": {
        "id": "Sv0GUZ22_3_7",
        "colab_type": "code",
        "colab": {}
      },
      "source": [
        "# Asignacion de tareas. Ramificacion y poda\n"
      ],
      "execution_count": 0,
      "outputs": []
    },
    {
      "cell_type": "code",
      "metadata": {
        "id": "LcBjga7I_-ag",
        "colab_type": "code",
        "colab": {}
      },
      "source": [
        "import itertools\n",
        "from functools import wraps\n",
        "\n",
        "def calcular_tiempo(f):\n",
        "    @wraps(f)\n",
        "    def cronometro(*args, **kwargs):\n",
        "        t_inicial = time()\n",
        "        salida = f(*args, **kwargs)\n",
        "        t_final = time()\n",
        "        print('Tiempo transcurrido (en segundos): {}'.format(t_final - t_inicial))\n",
        "        return salida\n",
        "    return cronometro"
      ],
      "execution_count": 0,
      "outputs": []
    },
    {
      "cell_type": "code",
      "metadata": {
        "id": "rXondG-sAAKZ",
        "colab_type": "code",
        "colab": {}
      },
      "source": [
        "COSTES = [[11,12,18,40],\n",
        "         [14,15,13,22],\n",
        "         [11,17,19,23],\n",
        "         [17,14,20,28]]"
      ],
      "execution_count": 0,
      "outputs": []
    },
    {
      "cell_type": "code",
      "metadata": {
        "id": "0oG9CVAMAUXC",
        "colab_type": "code",
        "colab": {
          "base_uri": "https://localhost:8080/",
          "height": 34
        },
        "outputId": "d6e4c747-80a4-4594-e3e7-b110b5bb5b89"
      },
      "source": [
        "def valor(S, COSTES):\n",
        "  VALOR = 0\n",
        "  for i in range(len(S)):\n",
        "    VALOR = VALOR + COSTES[S[i]][i]\n",
        "    \n",
        "  return VALOR\n",
        "\n",
        "valor((0,1,2,3), COSTES)"
      ],
      "execution_count": 8,
      "outputs": [
        {
          "output_type": "execute_result",
          "data": {
            "text/plain": [
              "73"
            ]
          },
          "metadata": {
            "tags": []
          },
          "execution_count": 8
        }
      ]
    },
    {
      "cell_type": "code",
      "metadata": {
        "id": "JTt1IeGbA2d2",
        "colab_type": "code",
        "colab": {
          "base_uri": "https://localhost:8080/",
          "height": 34
        },
        "outputId": "d6bd7dad-7798-4fdf-87f0-49cc441df4eb"
      },
      "source": [
        "def fuerza_bruta(COSTES):\n",
        "  mejor_valor = 10e10\n",
        "  mejor_solucion = ''\n",
        "  \n",
        "  for S in list(itertools.permutations(range(len(COSTES)))):\n",
        "    valor_tmp = valor(S, COSTES)\n",
        "    if valor_tmp < mejor_valor:\n",
        "      mejor_solucion = S\n",
        "      mejor_valor = valor_tmp\n",
        "  \n",
        "  print(\"La mejor solucion es: \", mejor_solucion)\n",
        "  \n",
        "\n",
        "fuerza_bruta(COSTES)"
      ],
      "execution_count": 10,
      "outputs": [
        {
          "output_type": "stream",
          "text": [
            "La mejor solucion es:  (0, 3, 1, 2)\n"
          ],
          "name": "stdout"
        }
      ]
    },
    {
      "cell_type": "code",
      "metadata": {
        "id": "pyhXLCcoCaLK",
        "colab_type": "code",
        "colab": {
          "base_uri": "https://localhost:8080/",
          "height": 34
        },
        "outputId": "d6ca2661-d9f4-41d7-a640-8be917e27f87"
      },
      "source": [
        "def CI(S, COSTES):\n",
        "  VALOR = 0\n",
        "  \n",
        "  for i in range(len(S)):\n",
        "    VALOR += COSTES[i][S[i]]\n",
        "  \n",
        "  \n",
        "  # Estimaciones\n",
        "  for i in range(len(COSTES)):\n",
        "    if i not in S:\n",
        "      VALOR += min([COSTES[j][i] for j in range(len(S), len(COSTES))])\n",
        "      \n",
        "  return VALOR\n",
        "\n",
        "def crear_hijos(NODO, N):\n",
        "  HIJOS = []\n",
        "  for i in range(N):\n",
        "    if i not in NODO:\n",
        "      HIJOS.append({'s':NODO+(i,)})\n",
        "  return HIJOS\n",
        "\n",
        "crear_hijos((0,2), 4)"
      ],
      "execution_count": 13,
      "outputs": [
        {
          "output_type": "execute_result",
          "data": {
            "text/plain": [
              "[{'s': (0, 2, 1)}, {'s': (0, 2, 3)}]"
            ]
          },
          "metadata": {
            "tags": []
          },
          "execution_count": 13
        }
      ]
    },
    {
      "cell_type": "code",
      "metadata": {
        "id": "a2TUHWN5FAjW",
        "colab_type": "code",
        "colab": {}
      },
      "source": [
        "def ramificacion_y_poda(COSTES):\n",
        "  DIMENSION = len(COSTES)\n",
        "  MEJOR_SOLUCION = tuple(i for i in range(DIMENSION))\n",
        "  \n",
        "  CotaSup = valor(MEJOR_SOLUCION, COSTES)\n",
        "  \n",
        "  NODOS = []\n",
        "  NODOS.append({'s':(), 'ci': CI((), COSTES)})\n",
        "  \n",
        "  #print(NODOS)\n",
        "  \n",
        "  iteracion = 0\n",
        "  \n",
        "  while (len(NODOS) > 0):\n",
        "    iteracion += 1\n",
        "    print(\"#\", iteracion)\n",
        "    nodo_prometedor = min(NODOS, key=lambda x:x['ci'])\n",
        "    \n",
        "    HIJOS = [{'s':x['s'], 'ci':CI(x['s'], COSTES)} for x in crear_hijos(nodo_prometedor['s'], DIMENSION)]\n",
        "    \n",
        "    NODO_FINAL = [x for x in HIJOS if len(x['s']) == DIMENSION]\n",
        "    if len(NODO_FINAL) > 0:\n",
        "      if NODO_FINAL[0]['ci'] < CotaSup:\n",
        "        CotaSup = NODO_FINAL[0]['c1']\n",
        "        MEJOR_SOLUCION = NODO_FINAL[0]\n",
        "        \n",
        "    HIJOS = [x for x in HIJOS if x['ci'] < CotaSup]\n",
        "    \n",
        "    print(nodo_prometedor)\n",
        "    \n",
        "    NODOS = [x for x in NODOS if x['s'] != nodo_prometedor]\n",
        "    NODOS.extend(HIJOS)\n",
        "    \n",
        "  print(\"La mejor solucion es:\", MEJOR_SOLUCION)\n",
        "  \n",
        "  \n",
        "ramificacion_y_poda(COSTES)"
      ],
      "execution_count": 0,
      "outputs": []
    },
    {
      "cell_type": "code",
      "metadata": {
        "id": "5V4SFvVbGy1u",
        "colab_type": "code",
        "colab": {}
      },
      "source": [
        ""
      ],
      "execution_count": 0,
      "outputs": []
    }
  ]
}